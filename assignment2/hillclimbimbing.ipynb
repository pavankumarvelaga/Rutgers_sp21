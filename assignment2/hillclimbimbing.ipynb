{
 "cells": [
  {
   "cell_type": "code",
   "execution_count": 3,
   "metadata": {},
   "outputs": [],
   "source": [
    "import random\n",
    "import math\n",
    "import copy\n",
    "import time\n",
    "import numpy as np"
   ]
  },
  {
   "cell_type": "code",
   "execution_count": 4,
   "metadata": {},
   "outputs": [],
   "source": [
    "# def compute_attacking_pairs(state):\n",
    "#     number_attacking_pairs = 0\n",
    "#     # Your code here \n",
    "#     n = len(state)\n",
    "#     for i in range(n):\n",
    "#         for j in range(i+1,n):\n",
    "#             if state[i] == state[j]:\n",
    "#                 number_attacking_pairs += 1\n",
    "#             elif abs(state[i] - state[j]) == abs(i - j):\n",
    "#                 number_attacking_pairs += 1\n",
    "#     return number_attacking_pairs"
   ]
  },
  {
   "cell_type": "code",
   "execution_count": 17,
   "metadata": {},
   "outputs": [],
   "source": [
    "def compute_attacking_pairs(state):\n",
    "    number_attacking_pairs = 0\n",
    "    # Your code here \n",
    "    n = len(state)\n",
    "    for i in range(n):\n",
    "        for j in range(i+1,n):\n",
    "            if state[i] == state[j]:\n",
    "                number_attacking_pairs += 1\n",
    "            elif abs(state[i] - state[j]) == abs(i - j):\n",
    "                number_attacking_pairs += 1\n",
    "    return number_attacking_pairs"
   ]
  },
  {
   "cell_type": "code",
   "execution_count": 18,
   "metadata": {},
   "outputs": [
    {
     "output_type": "execute_result",
     "data": {
      "text/plain": [
       "2"
      ]
     },
     "metadata": {},
     "execution_count": 18
    }
   ],
   "source": [
    "compute_attacking_pairs([0,2,1,3])"
   ]
  },
  {
   "cell_type": "code",
   "execution_count": 19,
   "metadata": {},
   "outputs": [],
   "source": [
    "def get_random_state(n):\n",
    "    state = []\n",
    "    # Your code here \n",
    "    for i in range(n):\n",
    "        state.append(random.randint(1,n))\n",
    "    return state"
   ]
  },
  {
   "cell_type": "code",
   "execution_count": 20,
   "metadata": {},
   "outputs": [
    {
     "output_type": "execute_result",
     "data": {
      "text/plain": [
       "[7, 5, 4, 7, 5, 6, 8, 4]"
      ]
     },
     "metadata": {},
     "execution_count": 20
    }
   ],
   "source": [
    "get_random_state(8)"
   ]
  },
  {
   "cell_type": "code",
   "execution_count": 37,
   "metadata": {},
   "outputs": [],
   "source": [
    "def hill_desending_n_queens(state,comp_att_pairs):\n",
    "    final_state = []\n",
    "#     cost = {}\n",
    "    # Your code here\n",
    "    n = (len(state))\n",
    "    min_cost = compute_attacking_pairs(state)\n",
    "    print(f\"min_cost:{min_cost}\")\n",
    "    min_state = state\n",
    "    min_prv = 0\n",
    "    while min_cost !=  min_prv:\n",
    "        state = min_state[:]\n",
    "        min_prv = min_cost\n",
    "        for i in range(n):\n",
    "            current = state[:]\n",
    "            for j in range(1,n+1):\n",
    "                if j != current[i]:\n",
    "                    current[i] = j\n",
    "                    cst = comp_att_pairs(current)\n",
    "                    if cst  <  min_cost:\n",
    "                        min_cost = cst\n",
    "                        min_state = current[:]\n",
    "                        if cst == 0:\n",
    "                            return min_state\n",
    "            if cst == 0:\n",
    "                return min_state\n",
    "        print(min_cost)\n",
    "    final_state = min_state\n",
    "    return final_state"
   ]
  },
  {
   "cell_type": "code",
   "execution_count": 38,
   "metadata": {},
   "outputs": [],
   "source": [
    "def n_queens(n, get_rand_st, comp_att_pairs, hill_descending):\n",
    "    final_state = []\n",
    "    # Your code here\n",
    "    cst = float('inf')\n",
    "    while cst >0: \n",
    "        state = get_random_state(n)\n",
    "        final_state = hill_desending_n_queens(state,comp_att_pairs)\n",
    "        cst = comp_att_pairs(final_state)\n",
    "        print(final_state,cst)\n",
    "    return final_state"
   ]
  },
  {
   "cell_type": "code",
   "execution_count": 40,
   "metadata": {},
   "outputs": [
    {
     "output_type": "stream",
     "name": "stdout",
     "text": [
      "min_cost:2\n2\n"
     ]
    },
    {
     "output_type": "execute_result",
     "data": {
      "text/plain": [
       "[1, 3, 2, 4]"
      ]
     },
     "metadata": {},
     "execution_count": 40
    }
   ],
   "source": [
    "hill_desending_n_queens([1, 3, 2, 4]  ,compute_attacking_pairs)\n"
   ]
  },
  {
   "cell_type": "code",
   "execution_count": 48,
   "metadata": {},
   "outputs": [
    {
     "output_type": "execute_result",
     "data": {
      "text/plain": [
       "0"
      ]
     },
     "metadata": {},
     "execution_count": 48
    }
   ],
   "source": [
    "compute_attacking_pairs([3, 2, 6, 5, 4, 7, 1, 8]"
   ]
  },
  {
   "cell_type": "code",
   "execution_count": 41,
   "metadata": {},
   "outputs": [],
   "source": [
    "# import multiprocessing as mp\n",
    "# if __name__ == '__main__':\n",
    "#     ctx = mp.get_context('spawn')\n",
    "#     q = ctx.Queue()\n",
    "#     p = ctx.Process(target=n_queens(16,get_random_state,compute_attacking_pairs,hill_desending_n_queens), args=(q,))\n",
    "#     p.start()\n",
    "#     print(q.get())\n",
    "#     p.join()"
   ]
  },
  {
   "cell_type": "code",
   "execution_count": 28,
   "metadata": {},
   "outputs": [
    {
     "output_type": "stream",
     "name": "stdout",
     "text": [
      "[9, 3, 12, 14, 2, 6, 7, 0, 15, 17, 5, 11, 16, 10, 13, 1, 4, 8] 2\n",
      "[10, 7, 13, 6, 2, 17, 5, 12, 15, 11, 3, 1, 16, 14, 0, 9, 8, 4] 1\n",
      "[6, 17, 11, 4, 7, 9, 14, 5, 13, 8, 0, 11, 7, 2, 16, 1, 10, 8] 3\n",
      "[5, 16, 5, 9, 14, 14, 10, 1, 3, 6, 0, 2, 8, 11, 13, 15, 17, 4] 2\n",
      "[11, 0, 6, 15, 1, 5, 8, 13, 17, 3, 5, 2, 4, 16, 7, 16, 12, 0] 3\n",
      "[1, 6, 10, 5, 13, 11, 3, 17, 7, 2, 0, 8, 15, 12, 9, 11, 14, 4] 3\n",
      "[10, 3, 17, 11, 13, 0, 2, 8, 15, 12, 14, 1, 6, 4, 12, 7, 9, 16] 2\n",
      "[11, 5, 3, 7, 12, 2, 6, 17, 0, 4, 15, 14, 8, 1, 16, 13, 10, 2] 3\n",
      "[9, 1, 6, 13, 6, 12, 17, 15, 11, 4, 16, 0, 3, 14, 7, 5, 2, 13] 2\n",
      "[14, 4, 9, 3, 17, 7, 10, 13, 16, 8, 2, 12, 17, 0, 5, 11, 6, 15] 2\n",
      "[6, 3, 10, 1, 17, 5, 2, 2, 12, 9, 13, 16, 4, 14, 8, 4, 15, 0] 5\n",
      "[12, 15, 17, 3, 1, 8, 5, 14, 9, 11, 2, 4, 6, 16, 0, 10, 7, 13] 2\n",
      "[8, 16, 1, 12, 0, 2, 6, 13, 11, 4, 17, 15, 2, 5, 7, 9, 0, 15] 3\n",
      "[7, 1, 4, 13, 15, 3, 3, 11, 17, 12, 2, 0, 11, 14, 10, 5, 6, 0] 4\n",
      "[11, 16, 10, 2, 4, 15, 9, 0, 12, 5, 17, 13, 1, 3, 8, 6, 14, 14] 2\n",
      "[8, 3, 0, 7, 14, 17, 13, 4, 1, 15, 11, 5, 2, 4, 6, 10, 12, 16] 1\n",
      "[8, 16, 7, 3, 1, 15, 12, 6, 4, 13, 11, 2, 14, 3, 17, 0, 14, 10] 3\n",
      "[1, 8, 6, 9, 2, 0, 17, 3, 7, 12, 15, 13, 5, 16, 14, 4, 10, 3] 2\n",
      "[3, 10, 17, 4, 8, 13, 0, 7, 1, 15, 5, 2, 9, 12, 16, 11, 6, 0] 1\n",
      "[7, 14, 10, 2, 16, 3, 11, 17, 8, 1, 13, 15, 9, 0, 15, 4, 12, 5] 1\n",
      "[16, 12, 4, 0, 7, 9, 15, 6, 2, 17, 5, 1, 13, 5, 10, 8, 14, 3] 2\n",
      "[10, 5, 13, 4, 0, 12, 14, 9, 1, 3, 16, 2, 17, 8, 11, 7, 15, 6] 0\n",
      "2.0406339168548584\n",
      "[10, 5, 13, 4, 0, 12, 14, 9, 1, 3, 16, 2, 17, 8, 11, 7, 15, 6]\n"
     ]
    },
    {
     "output_type": "execute_result",
     "data": {
      "text/plain": [
       "(None, None)"
      ]
     },
     "metadata": {},
     "execution_count": 28
    }
   ],
   "source": [
    "start = time.time()\n",
    "a = n_queens(18,get_random_state,compute_attacking_pairs,hill_desending_n_queens)\n",
    "end = time.time()\n",
    "print(end - start),print(a)\n"
   ]
  },
  {
   "cell_type": "code",
   "execution_count": 16,
   "metadata": {},
   "outputs": [],
   "source": [
    "# n_queens(16,get_random_state,compute_attacking_pairs,hill_desending_n_queens)"
   ]
  },
  {
   "cell_type": "code",
   "execution_count": null,
   "metadata": {},
   "outputs": [],
   "source": [
    "dict_ = {}\n",
    "for i in range(10):\n",
    "    a = random.randint(1,21)\n",
    "    start = time.time()\n",
    "    n_queens(a,get_random_state,compute_attacking_pairs,hill_desending_n_queens)\n",
    "    end = time.time()\n",
    "    dict_[i] = [a,(end - start)]"
   ]
  },
  {
   "cell_type": "code",
   "execution_count": null,
   "metadata": {},
   "outputs": [],
   "source": [
    "# compute_attacking_pairs(s)"
   ]
  },
  {
   "cell_type": "code",
   "execution_count": null,
   "metadata": {},
   "outputs": [],
   "source": [
    "hill_desending_n_queens(s,compute_attacking_pairs)"
   ]
  },
  {
   "cell_type": "code",
   "execution_count": null,
   "metadata": {},
   "outputs": [],
   "source": [
    "dict_"
   ]
  },
  {
   "cell_type": "code",
   "execution_count": null,
   "metadata": {},
   "outputs": [],
   "source": []
  }
 ],
 "metadata": {
  "kernelspec": {
   "display_name": "Python 3",
   "language": "python",
   "name": "python3"
  },
  "language_info": {
   "codemirror_mode": {
    "name": "ipython",
    "version": 3
   },
   "file_extension": ".py",
   "mimetype": "text/x-python",
   "name": "python",
   "nbconvert_exporter": "python",
   "pygments_lexer": "ipython3",
   "version": "3.8.5-final"
  }
 },
 "nbformat": 4,
 "nbformat_minor": 4
}